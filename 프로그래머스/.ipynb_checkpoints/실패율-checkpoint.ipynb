{
 "cells": [
  {
   "cell_type": "code",
   "execution_count": null,
   "metadata": {},
   "outputs": [],
   "source": [
    "\n",
    "def solution(N, stages):\n",
    "    answer = []\n",
    "    people = [ 0 for _ in range(N+1) ]\n",
    "    failure = []\n",
    "    total = len(stages)\n",
    "    for i in stages:\n",
    "        people[i-1] += 1\n",
    "    for i in range(N):\n",
    "        if total == 0 or people[i] == 0 :\n",
    "            failure.append((i+1, 0))\n",
    "        else:\n",
    "            failure.append((i+1, people[i]/total))\n",
    "            total -= people[i]\n",
    "    failure.sort(key = lambda x : (-x[1], x[0]))\n",
    "    for i, j in failure:\n",
    "        answer.append(i)\n",
    "    return answer"
   ]
  }
 ],
 "metadata": {
  "kernelspec": {
   "display_name": "Python 3",
   "language": "python",
   "name": "python3"
  },
  "language_info": {
   "codemirror_mode": {
    "name": "ipython",
    "version": 3
   },
   "file_extension": ".py",
   "mimetype": "text/x-python",
   "name": "python",
   "nbconvert_exporter": "python",
   "pygments_lexer": "ipython3",
   "version": "3.7.7"
  }
 },
 "nbformat": 4,
 "nbformat_minor": 4
}
